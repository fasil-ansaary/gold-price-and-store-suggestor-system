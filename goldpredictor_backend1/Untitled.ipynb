{
 "cells": [
  {
   "cell_type": "code",
   "execution_count": 1,
   "id": "33f336ec",
   "metadata": {},
   "outputs": [],
   "source": [
    "import pandas as pd\n",
    "from sklearn.tree import DecisionTreeClassifier # Import Decision Tree Classifier\n",
    "from sklearn.model_selection import train_test_split # Import train_test_split function\n",
    "from sklearn import metrics"
   ]
  },
  {
   "cell_type": "code",
   "execution_count": 2,
   "id": "af402165",
   "metadata": {},
   "outputs": [
    {
     "data": {
      "text/html": [
       "<div>\n",
       "<style scoped>\n",
       "    .dataframe tbody tr th:only-of-type {\n",
       "        vertical-align: middle;\n",
       "    }\n",
       "\n",
       "    .dataframe tbody tr th {\n",
       "        vertical-align: top;\n",
       "    }\n",
       "\n",
       "    .dataframe thead th {\n",
       "        text-align: right;\n",
       "    }\n",
       "</style>\n",
       "<table border=\"1\" class=\"dataframe\">\n",
       "  <thead>\n",
       "    <tr style=\"text-align: right;\">\n",
       "      <th></th>\n",
       "      <th>Location</th>\n",
       "      <th>Shop</th>\n",
       "      <th>Item</th>\n",
       "      <th>Percentage</th>\n",
       "      <th>Preference</th>\n",
       "    </tr>\n",
       "  </thead>\n",
       "  <tbody>\n",
       "    <tr>\n",
       "      <th>0</th>\n",
       "      <td>Tambaram</td>\n",
       "      <td>GRT</td>\n",
       "      <td>Ring</td>\n",
       "      <td>18</td>\n",
       "      <td>Low</td>\n",
       "    </tr>\n",
       "    <tr>\n",
       "      <th>1</th>\n",
       "      <td>Tambaram</td>\n",
       "      <td>GRT</td>\n",
       "      <td>Bangles</td>\n",
       "      <td>12</td>\n",
       "      <td>High</td>\n",
       "    </tr>\n",
       "    <tr>\n",
       "      <th>2</th>\n",
       "      <td>Tambaram</td>\n",
       "      <td>GRT</td>\n",
       "      <td>Chains</td>\n",
       "      <td>15</td>\n",
       "      <td>Medium</td>\n",
       "    </tr>\n",
       "    <tr>\n",
       "      <th>3</th>\n",
       "      <td>Tambaram</td>\n",
       "      <td>Tanishq</td>\n",
       "      <td>Ring</td>\n",
       "      <td>28</td>\n",
       "      <td>Low</td>\n",
       "    </tr>\n",
       "    <tr>\n",
       "      <th>4</th>\n",
       "      <td>Tambaram</td>\n",
       "      <td>Tanishq</td>\n",
       "      <td>Bangles</td>\n",
       "      <td>21</td>\n",
       "      <td>Low</td>\n",
       "    </tr>\n",
       "  </tbody>\n",
       "</table>\n",
       "</div>"
      ],
      "text/plain": [
       "   Location     Shop     Item  Percentage Preference\n",
       "0  Tambaram      GRT     Ring          18        Low\n",
       "1  Tambaram      GRT  Bangles          12       High\n",
       "2  Tambaram      GRT   Chains          15     Medium\n",
       "3  Tambaram  Tanishq     Ring          28        Low\n",
       "4  Tambaram  Tanishq  Bangles          21        Low"
      ]
     },
     "execution_count": 2,
     "metadata": {},
     "output_type": "execute_result"
    }
   ],
   "source": [
    "gold = pd.read_csv(\"gold.csv\")\n",
    "\n",
    "gold.head()"
   ]
  },
  {
   "cell_type": "code",
   "execution_count": 3,
   "id": "92cc8f1c",
   "metadata": {},
   "outputs": [
    {
     "name": "stdout",
     "output_type": "stream",
     "text": [
      "    Location      Shop  Item  Percentage  Preference\n",
      "0          1       GRT     1          18           1\n",
      "1          1       GRT     2          12           3\n",
      "2          1       GRT     3          15           2\n",
      "3          1   Tanishq     1          28           1\n",
      "4          1   Tanishq     2          21           1\n",
      "5          1   Tanishq     3          22           2\n",
      "6          1   Lalitha     1          16           2\n",
      "7          1   Lalitha     2          18           1\n",
      "8          1   Lalitha     3          20           1\n",
      "9          1  Saravana     1          13           3\n",
      "10         1  Saravana     2          15           2\n",
      "11         1  Saravana     3          10           3\n",
      "12         2   Lalitha     1          16           3\n",
      "13         2   Lalitha     2          18           1\n",
      "14         2   Lalitha     3          20           2\n",
      "15         2    Kalyan     1          15           2\n",
      "16         2    Kalyan     2          12           3\n",
      "17         2    Kalyan     3          10           3\n",
      "18         2   Tanishq     1          28           1\n",
      "19         2   Tanishq     2          21           2\n",
      "20         2   Tanishq     3          22           1\n",
      "21         3       GRT     1          18           3\n",
      "22         3       GRT     2          12           1\n",
      "23         3       GRT     3          15           3\n",
      "24         3   Tanishq     1          28           1\n",
      "25         3   Tanishq     2          21           3\n",
      "26         3   Tanishq     3          22           3\n",
      "27         3  Reliance     1          17           2\n",
      "28         3  Reliance     2          15           2\n",
      "29         3  Reliance     3          19           1\n",
      "30         4       GRT     1          18           2\n",
      "31         4       GRT     2          12           2\n",
      "32         4       GRT     3          15           3\n",
      "33         4   Lalitha     1          16           1\n",
      "34         4   Lalitha     2          18           3\n",
      "35         4   Lalitha     3          20           1\n",
      "36         4   Tanishq     1          28           1\n",
      "37         4   Tanishq     2          21           3\n",
      "38         4   Tanishq     3          22           2\n"
     ]
    }
   ],
   "source": [
    "d = {'Tambaram': 1, 'Chrompet': 2, 'Adyar': 3,'Kilpakkam':4}\n",
    "gold['Location'] = gold['Location'].map(d)\n",
    "d = {'Bangles': 2, 'Chains': 3,'Ring':1}\n",
    "gold['Item'] = gold['Item'].map(d)\n",
    "d={'Low':1,'Medium':2,'High':3}\n",
    "gold['Preference'] = gold['Preference'].map(d)\n",
    "\n",
    "print(gold)"
   ]
  },
  {
   "cell_type": "code",
   "execution_count": 4,
   "id": "9206b61e",
   "metadata": {},
   "outputs": [
    {
     "name": "stdout",
     "output_type": "stream",
     "text": [
      "    Location  Item  Preference\n",
      "0          1     1           1\n",
      "1          1     2           3\n",
      "2          1     3           2\n",
      "3          1     1           1\n",
      "4          1     2           1\n",
      "5          1     3           2\n",
      "6          1     1           2\n",
      "7          1     2           1\n",
      "8          1     3           1\n",
      "9          1     1           3\n",
      "10         1     2           2\n",
      "11         1     3           3\n",
      "12         2     1           3\n",
      "13         2     2           1\n",
      "14         2     3           2\n",
      "15         2     1           2\n",
      "16         2     2           3\n",
      "17         2     3           3\n",
      "18         2     1           1\n",
      "19         2     2           2\n",
      "20         2     3           1\n",
      "21         3     1           3\n",
      "22         3     2           1\n",
      "23         3     3           3\n",
      "24         3     1           1\n",
      "25         3     2           3\n",
      "26         3     3           3\n",
      "27         3     1           2\n",
      "28         3     2           2\n",
      "29         3     3           1\n",
      "30         4     1           2\n",
      "31         4     2           2\n",
      "32         4     3           3\n",
      "33         4     1           1\n",
      "34         4     2           3\n",
      "35         4     3           1\n",
      "36         4     1           1\n",
      "37         4     2           3\n",
      "38         4     3           2\n"
     ]
    }
   ],
   "source": [
    "features = ['Location', 'Item', 'Preference']\n",
    "\n",
    "X = gold[features]\n",
    "y = gold['Shop']\n",
    "\n",
    "print(X)\n"
   ]
  },
  {
   "cell_type": "code",
   "execution_count": 5,
   "id": "cdb8d02c",
   "metadata": {},
   "outputs": [],
   "source": [
    "X_train, X_test, y_train, y_test = train_test_split(X, y, test_size=0.3, random_state=42)"
   ]
  },
  {
   "cell_type": "code",
   "execution_count": 10,
   "id": "97af0d35",
   "metadata": {},
   "outputs": [],
   "source": [
    "clf = DecisionTreeClassifier(criterion=\"gini\")\n",
    "# Train Decision Tree Classifier\n",
    "clf = clf.fit(X_train,y_train)\n",
    "#Predict the response for test dataset\n",
    "y_pred = clf.predict(X_test)"
   ]
  },
  {
   "cell_type": "code",
   "execution_count": 11,
   "id": "0b23051e",
   "metadata": {},
   "outputs": [
    {
     "name": "stdout",
     "output_type": "stream",
     "text": [
      "Accuracy: 0.4166666666666667\n"
     ]
    }
   ],
   "source": [
    "print(\"Accuracy:\",metrics.accuracy_score(y_pred, y_test))"
   ]
  },
  {
   "cell_type": "code",
   "execution_count": 12,
   "id": "d92f0104",
   "metadata": {},
   "outputs": [
    {
     "name": "stderr",
     "output_type": "stream",
     "text": [
      "/Users/fasil/opt/anaconda3/lib/python3.8/site-packages/sklearn/base.py:445: UserWarning: X does not have valid feature names, but DecisionTreeClassifier was fitted with feature names\n",
      "  warnings.warn(\n"
     ]
    },
    {
     "data": {
      "text/plain": [
       "'Lalitha'"
      ]
     },
     "execution_count": 12,
     "metadata": {},
     "output_type": "execute_result"
    }
   ],
   "source": [
    "clf.predict([[1,2,1]])[0]"
   ]
  },
  {
   "cell_type": "code",
   "execution_count": 15,
   "id": "75db766a",
   "metadata": {},
   "outputs": [],
   "source": [
    "import pickle\n",
    "pickle.dump(clf, open('DT.pkl', 'wb'))"
   ]
  },
  {
   "cell_type": "code",
   "execution_count": null,
   "id": "699a7080",
   "metadata": {},
   "outputs": [],
   "source": []
  }
 ],
 "metadata": {
  "kernelspec": {
   "display_name": "Python 3.8.8 64-bit ('base': conda)",
   "language": "python",
   "name": "python388jvsc74a57bd0d1e1fec4971219ea1440f1cbf5f2591e2b8276d7fe7ba62a48bf58020cbad73f"
  },
  "language_info": {
   "codemirror_mode": {
    "name": "ipython",
    "version": 3
   },
   "file_extension": ".py",
   "mimetype": "text/x-python",
   "name": "python",
   "nbconvert_exporter": "python",
   "pygments_lexer": "ipython3",
   "version": "3.8.12"
  }
 },
 "nbformat": 4,
 "nbformat_minor": 5
}
